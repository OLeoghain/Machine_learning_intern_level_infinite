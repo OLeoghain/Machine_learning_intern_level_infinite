{
 "cells": [
  {
   "cell_type": "raw",
   "metadata": {},
   "source": [
    "This is a Naive Bayes implementation of Spam-Ham from enron data set"
   ]
  },
  {
   "cell_type": "code",
   "execution_count": null,
   "metadata": {
    "collapsed": true
   },
   "outputs": [],
   "source": [
    "# import nltk\n",
    "import os\n",
    "import random\n",
    "from collections import Counter\n",
    "from nltk import word_tokenize, WordNetLemmatizer\n",
    "from nltk.corpus import stopwords\n",
    "from nltk import NaiveBayesClassifier, classify"
   ]
  },
  {
   "cell_type": "code",
   "execution_count": 27,
   "metadata": {
    "collapsed": true
   },
   "outputs": [],
   "source": [
    "stoplist = stopwords.words('english')\n",
    "\n",
    "def init_lists(folder):\n",
    "    a_list = []\n",
    "    file_list = os.listdir(folder)\n",
    "    for a_file in file_list:\n",
    "        f = open(folder + a_file, 'rb')\n",
    "        a_list.append(f.read())\n",
    "    f.close()\n",
    "    return a_list\n",
    "        "
   ]
  },
  {
   "cell_type": "code",
   "execution_count": 58,
   "metadata": {
    "collapsed": true
   },
   "outputs": [],
   "source": [
    "def preprocess(sentence):\n",
    "    lemmatizer = WordNetLemmatizer()\n",
    "    return [lemmatizer.lemmatize(word.lower()) for word in word_tokenize(str(sentence))]"
   ]
  },
  {
   "cell_type": "code",
   "execution_count": 59,
   "metadata": {
    "collapsed": true
   },
   "outputs": [],
   "source": [
    "def get_features(text, setting):\n",
    "    if setting=='bow':\n",
    "        return {word: count for word, count in Counter(preprocess(text)).items() if not word in stoplist}\n",
    "    else:\n",
    "        return {word: True for word in preprocess(text) if not word in stoplist}"
   ]
  },
  {
   "cell_type": "code",
   "execution_count": 60,
   "metadata": {
    "collapsed": true
   },
   "outputs": [],
   "source": [
    "def train(features, samples_proportion):\n",
    "    train_size = int(len(features) * samples_proportion)\n",
    "    # initialise the training and test sets\n",
    "    train_set, test_set = features[:train_size], features[train_size:]\n",
    "    print ('Training set size = ' + str(len(train_set)) + ' emails')\n",
    "    print ('Test set size = ' + str(len(test_set)) + ' emails')\n",
    "    # train the classifier\n",
    "    classifier = NaiveBayesClassifier.train(train_set)\n",
    "    return train_set, test_set, classifier"
   ]
  },
  {
   "cell_type": "code",
   "execution_count": 61,
   "metadata": {
    "collapsed": true
   },
   "outputs": [],
   "source": [
    "def evaluate(train_set, test_set, classifier):\n",
    "    # check how the classifier performs on the training and test sets\n",
    "    print ('Accuracy on the training set = ' + str(classify.accuracy(classifier, train_set)))\n",
    "    print ('Accuracy of the test set = ' + str(classify.accuracy(classifier, test_set)))\n",
    "    # check which words are most informative for the classifier\n",
    "    classifier.show_most_informative_features(20)"
   ]
  },
  {
   "cell_type": "code",
   "execution_count": 62,
   "metadata": {},
   "outputs": [
    {
     "name": "stdout",
     "output_type": "stream",
     "text": [
      "Corpus size = 5172 emails\n"
     ]
    }
   ],
   "source": [
    " # initialise the data\n",
    "spam = init_lists('Enron/enron1/spam/')\n",
    "ham = init_lists('Enron/enron1/ham/')\n",
    "all_emails = [(email, 'spam') for email in spam]\n",
    "all_emails += [(email, 'ham') for email in ham]\n",
    "random.shuffle(all_emails)\n",
    "print ('Corpus size = ' + str(len(all_emails)) + ' emails')"
   ]
  },
  {
   "cell_type": "code",
   "execution_count": 64,
   "metadata": {},
   "outputs": [
    {
     "name": "stdout",
     "output_type": "stream",
     "text": [
      "Collected 5172 feature sets\n"
     ]
    }
   ],
   "source": [
    "# extract the features\n",
    "all_features = [(get_features(email, ''), label) for (email, label) in all_emails]\n",
    "print('Collected ' + str(len(all_features)) + ' feature sets')"
   ]
  },
  {
   "cell_type": "code",
   "execution_count": 66,
   "metadata": {},
   "outputs": [
    {
     "name": "stdout",
     "output_type": "stream",
     "text": [
      "Training set size = 4137 emails\n",
      "Test set size = 1035 emails\n"
     ]
    }
   ],
   "source": [
    "# train the classifier\n",
    "train_set, test_set, classifier = train(all_features, 0.8)"
   ]
  },
  {
   "cell_type": "code",
   "execution_count": 67,
   "metadata": {},
   "outputs": [
    {
     "name": "stdout",
     "output_type": "stream",
     "text": [
      "Accuracy on the training set = 0.9688179840464104\n",
      "Accuracy of the test set = 0.9352657004830918\n",
      "Most Informative Features\n",
      "                     ect = True              ham : spam   =    190.4 : 1.0\n",
      "                     hou = True              ham : spam   =    186.8 : 1.0\n",
      "             \\r\\nsubject = True              ham : spam   =    180.8 : 1.0\n",
      "                pm\\r\\nto = True              ham : spam   =    174.8 : 1.0\n",
      "            prescription = True             spam : ham    =    151.6 : 1.0\n",
      "                   meter = True              ham : spam   =    105.3 : 1.0\n",
      "                am\\r\\nto = True              ham : spam   =    100.2 : 1.0\n",
      "              medication = True             spam : ham    =     93.2 : 1.0\n",
      "                   cheap = True             spam : ham    =     80.3 : 1.0\n",
      "                    2005 = True             spam : ham    =     78.6 : 1.0\n",
      "                    2001 = True              ham : spam   =     78.5 : 1.0\n",
      "                    pain = True             spam : ham    =     72.1 : 1.0\n",
      "                  reader = True             spam : ham    =     67.3 : 1.0\n",
      "                  dealer = True             spam : ham    =     65.7 : 1.0\n",
      "                     pro = True             spam : ham    =     60.8 : 1.0\n",
      "                    huge = True             spam : ham    =     57.6 : 1.0\n",
      "                     ali = True             spam : ham    =     57.6 : 1.0\n",
      "                    draw = True             spam : ham    =     55.9 : 1.0\n",
      "                      ex = True             spam : ham    =     55.9 : 1.0\n",
      "                deciding = True             spam : ham    =     49.5 : 1.0\n"
     ]
    }
   ],
   "source": [
    "# evaluate its performance\n",
    "evaluate(train_set, test_set, classifier)"
   ]
  },
  {
   "cell_type": "markdown",
   "metadata": {
    "collapsed": true
   },
   "source": [
    "Amit Lohan @ Level Infinite Winter Internship"
   ]
  }
 ],
 "metadata": {
  "kernelspec": {
   "display_name": "Python 3",
   "language": "python",
   "name": "python3"
  },
  "language_info": {
   "codemirror_mode": {
    "name": "ipython",
    "version": 3
   },
   "file_extension": ".py",
   "mimetype": "text/x-python",
   "name": "python",
   "nbconvert_exporter": "python",
   "pygments_lexer": "ipython3",
   "version": "3.6.3"
  }
 },
 "nbformat": 4,
 "nbformat_minor": 2
}
